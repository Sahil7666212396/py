{
  "nbformat": 4,
  "nbformat_minor": 0,
  "metadata": {
    "colab": {
      "provenance": [],
      "authorship_tag": "ABX9TyNAYyb+Rzyz+3PfU5Ef8HYC",
      "include_colab_link": true
    },
    "kernelspec": {
      "name": "python3",
      "display_name": "Python 3"
    },
    "language_info": {
      "name": "python"
    }
  },
  "cells": [
    {
      "cell_type": "markdown",
      "metadata": {
        "id": "view-in-github",
        "colab_type": "text"
      },
      "source": [
        "<a href=\"https://colab.research.google.com/github/Sahil7666212396/py/blob/master/NLP_Chatbot.ipynb\" target=\"_parent\"><img src=\"https://colab.research.google.com/assets/colab-badge.svg\" alt=\"Open In Colab\"/></a>"
      ]
    },
    {
      "cell_type": "code",
      "execution_count": 1,
      "metadata": {
        "id": "DFYXdhY14g4l"
      },
      "outputs": [],
      "source": [
        "# NLP Chat Chatbop"
      ]
    },
    {
      "cell_type": "markdown",
      "source": [
        "# NLP Chat Chatbop"
      ],
      "metadata": {
        "id": "zp6PaQuS4p8s"
      }
    }
  ]
}